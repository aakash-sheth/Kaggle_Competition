{
  "nbformat": 4,
  "nbformat_minor": 0,
  "metadata": {
    "colab": {
      "name": "Copy of Customer_Pred.ipynb",
      "version": "0.3.2",
      "provenance": [],
      "include_colab_link": true
    },
    "kernelspec": {
      "display_name": "Python 3",
      "language": "python",
      "name": "python3"
    }
  },
  "cells": [
    {
      "cell_type": "markdown",
      "metadata": {
        "id": "view-in-github",
        "colab_type": "text"
      },
      "source": [
        "<a href=\"https://colab.research.google.com/github/rd27995/Kaggle_Competition/blob/Model_2/lightGBM.ipynb\" target=\"_parent\"><img src=\"https://colab.research.google.com/assets/colab-badge.svg\" alt=\"Open In Colab\"/></a>"
      ]
    },
    {
      "metadata": {
        "id": "BbfTFyj8CajL",
        "colab_type": "code",
        "colab": {}
      },
      "cell_type": "code",
      "source": [
        "#Import the essentials\n",
        "import pandas as pd\n",
        "import numpy as np\n",
        "import matplotlib.pyplot as plt\n",
        "import matplotlib.pyplot as plt\n",
        "from sklearn.metrics import mean_squared_error\n",
        "\n",
        "from sklearn.metrics import roc_auc_score, roc_curve\n",
        "from sklearn.model_selection import StratifiedKFold\n",
        "from sklearn.preprocessing import StandardScaler\n",
        "import plotly.plotly as py\n",
        "from sklearn import metrics\n",
        "from sklearn.preprocessing import StandardScaler\n",
        "import lightgbm as lgb "
      ],
      "execution_count": 0,
      "outputs": []
    },
    {
      "metadata": {
        "id": "XzzJVOcKCajd",
        "colab_type": "code",
        "colab": {}
      },
      "cell_type": "code",
      "source": [
        "##Read the data\n",
        "\n",
        "train_data = pd.read_csv('train.csv')\n",
        "test_data=pd.read_csv('test.csv')"
      ],
      "execution_count": 0,
      "outputs": []
    },
    {
      "metadata": {
        "id": "MOjlJRI9Caji",
        "colab_type": "code",
        "outputId": "ea9f81ef-2e4c-4b4d-ef93-d16eb83b0b4e",
        "colab": {
          "base_uri": "https://localhost:8080/",
          "height": 34
        }
      },
      "cell_type": "code",
      "source": [
        "## Get the shape\n",
        "train_data.shape"
      ],
      "execution_count": 3,
      "outputs": [
        {
          "output_type": "execute_result",
          "data": {
            "text/plain": [
              "(200000, 202)"
            ]
          },
          "metadata": {
            "tags": []
          },
          "execution_count": 3
        }
      ]
    },
    {
      "metadata": {
        "id": "UjGfO64VCajt",
        "colab_type": "code",
        "outputId": "c188e6f6-d393-41ea-d2a9-34d414a231ef",
        "colab": {
          "base_uri": "https://localhost:8080/",
          "height": 162
        }
      },
      "cell_type": "code",
      "source": [
        "  ##Take a glimpse\n",
        "X.head()"
      ],
      "execution_count": 4,
      "outputs": [
        {
          "output_type": "error",
          "ename": "NameError",
          "evalue": "ignored",
          "traceback": [
            "\u001b[0;31m---------------------------------------------------------------------------\u001b[0m",
            "\u001b[0;31mNameError\u001b[0m                                 Traceback (most recent call last)",
            "\u001b[0;32m<ipython-input-4-ae5cd47bda90>\u001b[0m in \u001b[0;36m<module>\u001b[0;34m()\u001b[0m\n\u001b[0;32m----> 1\u001b[0;31m \u001b[0mX\u001b[0m\u001b[0;34m.\u001b[0m\u001b[0mhead\u001b[0m\u001b[0;34m(\u001b[0m\u001b[0;34m)\u001b[0m\u001b[0;34m\u001b[0m\u001b[0;34m\u001b[0m\u001b[0m\n\u001b[0m",
            "\u001b[0;31mNameError\u001b[0m: name 'X' is not defined"
          ]
        }
      ]
    },
    {
      "metadata": {
        "id": "lN5NgcnJCakV",
        "colab_type": "code",
        "colab": {}
      },
      "cell_type": "code",
      "source": [
        "train_data = train_data.loc[:, train_data.columns != 'ID_code']\n",
        "customer = test_data.loc[:, test_data.columns != 'ID_code']"
      ],
      "execution_count": 0,
      "outputs": []
    },
    {
      "metadata": {
        "id": "_9byP0GzCakb",
        "colab_type": "code",
        "colab": {}
      },
      "cell_type": "code",
      "source": [
        "X = train_data.loc[:, train_data.columns != 'target']\n",
        "y = train_data.iloc[:,0]"
      ],
      "execution_count": 0,
      "outputs": []
    },
    {
      "metadata": {
        "id": "2In3p-ivCako",
        "colab_type": "code",
        "colab": {}
      },
      "cell_type": "code",
      "source": [
        "customers_w= customer.loc[:, customer.columns != 'ID_code']\n"
      ],
      "execution_count": 0,
      "outputs": []
    },
    {
      "metadata": {
        "id": "rTdia8yACakv",
        "colab_type": "code",
        "outputId": "96b1bc4f-4271-4675-c450-9ee88127ef1a",
        "colab": {
          "base_uri": "https://localhost:8080/",
          "height": 118
        }
      },
      "cell_type": "code",
      "source": [
        "y.head()"
      ],
      "execution_count": 0,
      "outputs": [
        {
          "output_type": "execute_result",
          "data": {
            "text/plain": [
              "0    0\n",
              "1    0\n",
              "2    0\n",
              "3    0\n",
              "4    0\n",
              "Name: target, dtype: int64"
            ]
          },
          "metadata": {
            "tags": []
          },
          "execution_count": 43
        }
      ]
    },
    {
      "metadata": {
        "id": "NwJ4CIg8Cak5",
        "colab_type": "code",
        "colab": {}
      },
      "cell_type": "code",
      "source": [
        "#build a basic logit model\n",
        "\n",
        "from sklearn.model_selection import train_test_split"
      ],
      "execution_count": 0,
      "outputs": []
    },
    {
      "metadata": {
        "id": "zyq7wbSKCak_",
        "colab_type": "code",
        "colab": {}
      },
      "cell_type": "code",
      "source": [
        "X_train, X_test, y_train, y_test = train_test_split(X, y, test_size = 0.20,random_state=123)"
      ],
      "execution_count": 0,
      "outputs": []
    },
    {
      "metadata": {
        "id": "A51gMarwCalG",
        "colab_type": "code",
        "outputId": "ce446603-c14f-46e2-c5c4-3f7d228dd417",
        "colab": {
          "base_uri": "https://localhost:8080/",
          "height": 244
        }
      },
      "cell_type": "code",
      "source": [
        "X_train.head()"
      ],
      "execution_count": 0,
      "outputs": [
        {
          "output_type": "execute_result",
          "data": {
            "text/html": [
              "<div>\n",
              "<style scoped>\n",
              "    .dataframe tbody tr th:only-of-type {\n",
              "        vertical-align: middle;\n",
              "    }\n",
              "\n",
              "    .dataframe tbody tr th {\n",
              "        vertical-align: top;\n",
              "    }\n",
              "\n",
              "    .dataframe thead th {\n",
              "        text-align: right;\n",
              "    }\n",
              "</style>\n",
              "<table border=\"1\" class=\"dataframe\">\n",
              "  <thead>\n",
              "    <tr style=\"text-align: right;\">\n",
              "      <th></th>\n",
              "      <th>var_0</th>\n",
              "      <th>var_1</th>\n",
              "      <th>var_2</th>\n",
              "      <th>var_3</th>\n",
              "      <th>var_4</th>\n",
              "      <th>var_5</th>\n",
              "      <th>var_6</th>\n",
              "      <th>var_7</th>\n",
              "      <th>var_8</th>\n",
              "      <th>var_9</th>\n",
              "      <th>...</th>\n",
              "      <th>var_190</th>\n",
              "      <th>var_191</th>\n",
              "      <th>var_192</th>\n",
              "      <th>var_193</th>\n",
              "      <th>var_194</th>\n",
              "      <th>var_195</th>\n",
              "      <th>var_196</th>\n",
              "      <th>var_197</th>\n",
              "      <th>var_198</th>\n",
              "      <th>var_199</th>\n",
              "    </tr>\n",
              "  </thead>\n",
              "  <tbody>\n",
              "    <tr>\n",
              "      <th>125714</th>\n",
              "      <td>11.4791</td>\n",
              "      <td>0.4721</td>\n",
              "      <td>11.6491</td>\n",
              "      <td>2.8147</td>\n",
              "      <td>11.9129</td>\n",
              "      <td>-3.5222</td>\n",
              "      <td>4.7829</td>\n",
              "      <td>21.0751</td>\n",
              "      <td>3.0464</td>\n",
              "      <td>7.3589</td>\n",
              "      <td>...</td>\n",
              "      <td>-3.5621</td>\n",
              "      <td>9.3558</td>\n",
              "      <td>-0.9132</td>\n",
              "      <td>1.3818</td>\n",
              "      <td>17.7582</td>\n",
              "      <td>-0.6620</td>\n",
              "      <td>4.5177</td>\n",
              "      <td>9.7471</td>\n",
              "      <td>14.1922</td>\n",
              "      <td>-3.8321</td>\n",
              "    </tr>\n",
              "    <tr>\n",
              "      <th>149585</th>\n",
              "      <td>9.9893</td>\n",
              "      <td>4.9190</td>\n",
              "      <td>17.1635</td>\n",
              "      <td>5.6806</td>\n",
              "      <td>11.0406</td>\n",
              "      <td>-11.3340</td>\n",
              "      <td>6.0441</td>\n",
              "      <td>17.5113</td>\n",
              "      <td>-4.3194</td>\n",
              "      <td>7.6422</td>\n",
              "      <td>...</td>\n",
              "      <td>1.3875</td>\n",
              "      <td>7.8681</td>\n",
              "      <td>4.9082</td>\n",
              "      <td>1.5909</td>\n",
              "      <td>17.8250</td>\n",
              "      <td>1.0812</td>\n",
              "      <td>7.2966</td>\n",
              "      <td>8.4768</td>\n",
              "      <td>15.4487</td>\n",
              "      <td>-2.1618</td>\n",
              "    </tr>\n",
              "    <tr>\n",
              "      <th>27244</th>\n",
              "      <td>12.8085</td>\n",
              "      <td>-2.6705</td>\n",
              "      <td>5.9245</td>\n",
              "      <td>5.9104</td>\n",
              "      <td>11.4729</td>\n",
              "      <td>-13.1428</td>\n",
              "      <td>5.2582</td>\n",
              "      <td>16.0739</td>\n",
              "      <td>2.3920</td>\n",
              "      <td>9.3071</td>\n",
              "      <td>...</td>\n",
              "      <td>5.3411</td>\n",
              "      <td>2.4666</td>\n",
              "      <td>1.6046</td>\n",
              "      <td>4.8630</td>\n",
              "      <td>17.6553</td>\n",
              "      <td>-2.2474</td>\n",
              "      <td>11.1551</td>\n",
              "      <td>8.6029</td>\n",
              "      <td>15.2536</td>\n",
              "      <td>-8.0695</td>\n",
              "    </tr>\n",
              "    <tr>\n",
              "      <th>136859</th>\n",
              "      <td>7.0864</td>\n",
              "      <td>1.4003</td>\n",
              "      <td>11.2668</td>\n",
              "      <td>7.9028</td>\n",
              "      <td>9.4605</td>\n",
              "      <td>-17.3608</td>\n",
              "      <td>4.9076</td>\n",
              "      <td>25.6480</td>\n",
              "      <td>2.3065</td>\n",
              "      <td>9.0890</td>\n",
              "      <td>...</td>\n",
              "      <td>2.1096</td>\n",
              "      <td>9.0320</td>\n",
              "      <td>0.7102</td>\n",
              "      <td>1.2167</td>\n",
              "      <td>16.6201</td>\n",
              "      <td>1.1312</td>\n",
              "      <td>4.6771</td>\n",
              "      <td>7.7211</td>\n",
              "      <td>17.8585</td>\n",
              "      <td>-19.2296</td>\n",
              "    </tr>\n",
              "    <tr>\n",
              "      <th>154257</th>\n",
              "      <td>11.9604</td>\n",
              "      <td>-2.0534</td>\n",
              "      <td>17.9088</td>\n",
              "      <td>9.6810</td>\n",
              "      <td>12.4646</td>\n",
              "      <td>-10.5527</td>\n",
              "      <td>4.1052</td>\n",
              "      <td>19.9041</td>\n",
              "      <td>-0.5836</td>\n",
              "      <td>7.1742</td>\n",
              "      <td>...</td>\n",
              "      <td>6.2539</td>\n",
              "      <td>3.0084</td>\n",
              "      <td>4.7971</td>\n",
              "      <td>7.8370</td>\n",
              "      <td>20.2879</td>\n",
              "      <td>-0.4888</td>\n",
              "      <td>-3.6133</td>\n",
              "      <td>10.8112</td>\n",
              "      <td>14.5239</td>\n",
              "      <td>-20.4520</td>\n",
              "    </tr>\n",
              "  </tbody>\n",
              "</table>\n",
              "<p>5 rows × 200 columns</p>\n",
              "</div>"
            ],
            "text/plain": [
              "          var_0   var_1    var_2   var_3    var_4    var_5   var_6    var_7  \\\n",
              "125714  11.4791  0.4721  11.6491  2.8147  11.9129  -3.5222  4.7829  21.0751   \n",
              "149585   9.9893  4.9190  17.1635  5.6806  11.0406 -11.3340  6.0441  17.5113   \n",
              "27244   12.8085 -2.6705   5.9245  5.9104  11.4729 -13.1428  5.2582  16.0739   \n",
              "136859   7.0864  1.4003  11.2668  7.9028   9.4605 -17.3608  4.9076  25.6480   \n",
              "154257  11.9604 -2.0534  17.9088  9.6810  12.4646 -10.5527  4.1052  19.9041   \n",
              "\n",
              "         var_8   var_9   ...     var_190  var_191  var_192  var_193  var_194  \\\n",
              "125714  3.0464  7.3589   ...     -3.5621   9.3558  -0.9132   1.3818  17.7582   \n",
              "149585 -4.3194  7.6422   ...      1.3875   7.8681   4.9082   1.5909  17.8250   \n",
              "27244   2.3920  9.3071   ...      5.3411   2.4666   1.6046   4.8630  17.6553   \n",
              "136859  2.3065  9.0890   ...      2.1096   9.0320   0.7102   1.2167  16.6201   \n",
              "154257 -0.5836  7.1742   ...      6.2539   3.0084   4.7971   7.8370  20.2879   \n",
              "\n",
              "        var_195  var_196  var_197  var_198  var_199  \n",
              "125714  -0.6620   4.5177   9.7471  14.1922  -3.8321  \n",
              "149585   1.0812   7.2966   8.4768  15.4487  -2.1618  \n",
              "27244   -2.2474  11.1551   8.6029  15.2536  -8.0695  \n",
              "136859   1.1312   4.6771   7.7211  17.8585 -19.2296  \n",
              "154257  -0.4888  -3.6133  10.8112  14.5239 -20.4520  \n",
              "\n",
              "[5 rows x 200 columns]"
            ]
          },
          "metadata": {
            "tags": []
          },
          "execution_count": 46
        }
      ]
    },
    {
      "metadata": {
        "id": "t8B91GPZCapI",
        "colab_type": "code",
        "colab": {}
      },
      "cell_type": "code",
      "source": [
        "sc = StandardScaler()"
      ],
      "execution_count": 0,
      "outputs": []
    },
    {
      "metadata": {
        "id": "bHPDs9G0fWpK",
        "colab_type": "text"
      },
      "cell_type": "markdown",
      "source": [
        ""
      ]
    },
    {
      "metadata": {
        "id": "zFQ_4JNtvlgm",
        "colab_type": "code",
        "colab": {}
      },
      "cell_type": "code",
      "source": [
        "X_train1 = sc.fit_transform(X_train)\n",
        "X_test1 = sc.transform(X_test)"
      ],
      "execution_count": 0,
      "outputs": []
    },
    {
      "metadata": {
        "id": "iz2tT1-gv1--",
        "colab_type": "code",
        "colab": {}
      },
      "cell_type": "code",
      "source": [
        "import lightgbm as lgb"
      ],
      "execution_count": 0,
      "outputs": []
    },
    {
      "metadata": {
        "id": "Y6QSvUZlv9pb",
        "colab_type": "code",
        "colab": {}
      },
      "cell_type": "code",
      "source": [
        "d_train = lgb.Dataset(X_train1,y_train)"
      ],
      "execution_count": 0,
      "outputs": []
    },
    {
      "metadata": {
        "id": "_DsQQzcH8r5t",
        "colab_type": "code",
        "colab": {}
      },
      "cell_type": "code",
      "source": [
        "## Best Iteration"
      ],
      "execution_count": 0,
      "outputs": []
    },
    {
      "metadata": {
        "id": "GUJfmjsIwhvy",
        "colab_type": "code",
        "colab": {}
      },
      "cell_type": "code",
      "source": [
        "params = {}\n",
        "params['learning_rate'] = 0.01\n",
        "params['boosting_type'] = 'gbdt'\n",
        "params['objective'] = 'binary'\n",
        "params['metric'] = 'binary_error'\n",
        "params['n_thread'] = 3\n",
        "params['num_leaves'] = 32\n",
        "params['subsample_for_bin'] = 200\n",
        "params['bagging_fraction'] = 0.75\n",
        "params['bagging_freq'] = 1\n",
        "params['colsample_bytree'] = 0.8\n",
        "params['reg_alpha'] = 3\n",
        "params['reg_lambda'] = 6\n",
        "params['min_split_gain'] = 0.5\n",
        "params['min_child_weight'] = 1\n",
        "params['min_child_samples'] = 5\n",
        "params['scale_pause_weight'] = 1\n",
        "params['num_class'] =1\n",
        "params['max_depth'] = 9\n",
        "params['min_data_in_leaf']=1875\n"
      ],
      "execution_count": 0,
      "outputs": []
    },
    {
      "metadata": {
        "id": "0cXIqgvT2nYF",
        "colab_type": "code",
        "colab": {}
      },
      "cell_type": "code",
      "source": [
        "params = {}\n",
        "params['learning_rate'] = 0.01\n",
        "params['boosting_type'] = 'gbdt'\n",
        "params['objective'] = 'binary'\n",
        "params['metric'] = 'auc'\n",
        "params['n_thread'] = 13\n",
        "params['num_leaves'] = 32\n",
        "params['subsample_for_bin'] = 200\n",
        "params['bagging_fraction'] = 0.75\n",
        "params['feature_fraction']=0.041\n",
        "params['bagging_freq'] = 1\n",
        "params['colsample_bytree'] = 0.7\n",
        "params['reg_alpha'] = 1\n",
        "params['reg_lambda'] = 2\n",
        "params['min_split_gain'] = 0.5\n",
        "params['min_child_weight'] = 1\n",
        "params['min_child_samples'] = 5\n",
        "params['scale_pause_weight'] = 1\n",
        "params['num_class'] =1\n",
        "params['max_depth'] =-1\n",
        "params['min_data_in_leaf']=1500\n"
      ],
      "execution_count": 0,
      "outputs": []
    },
    {
      "metadata": {
        "id": "-_ZIcfvJ2J_K",
        "colab_type": "code",
        "colab": {}
      },
      "cell_type": "code",
      "source": [
        "clf = lgb.train(params, d_train, 10000)"
      ],
      "execution_count": 0,
      "outputs": []
    },
    {
      "metadata": {
        "id": "7tPvgaBa2Qc4",
        "colab_type": "code",
        "colab": {}
      },
      "cell_type": "code",
      "source": [
        "#Prediction\n",
        "y_pred=clf.predict(X_test1)"
      ],
      "execution_count": 0,
      "outputs": []
    },
    {
      "metadata": {
        "id": "C0uFVn_Y1fBW",
        "colab_type": "code",
        "outputId": "aa9c60c7-95bc-48ee-aa64-a86c1f0e89a7",
        "colab": {
          "base_uri": "https://localhost:8080/",
          "height": 34
        }
      },
      "cell_type": "code",
      "source": [
        "fpr, tpr, thresholds = metrics.roc_curve(y_test, y_pred, pos_label=None)\n",
        "metrics.auc(fpr,tpr)"
      ],
      "execution_count": 0,
      "outputs": [
        {
          "output_type": "execute_result",
          "data": {
            "text/plain": [
              "0.8979646319142964"
            ]
          },
          "metadata": {
            "tags": []
          },
          "execution_count": 60
        }
      ]
    },
    {
      "metadata": {
        "id": "v2rqvAu1HKBu",
        "colab_type": "code",
        "colab": {}
      },
      "cell_type": "code",
      "source": [
        "#convert into binary values\n",
        "for i in range(0,len(customers_w)):\n",
        "    if y_pred[i]>=0.1:   \n",
        "       y_pred[i]=1\n",
        "       \n",
        "    else:  \n",
        "       y_pred[i]=0"
      ],
      "execution_count": 0,
      "outputs": []
    },
    {
      "metadata": {
        "id": "nViQHQjMLAOC",
        "colab_type": "code",
        "colab": {}
      },
      "cell_type": "code",
      "source": [
        "customers_w = customers.loc[:, customers.columns != 'ID_code']"
      ],
      "execution_count": 0,
      "outputs": []
    },
    {
      "metadata": {
        "id": "r844Lg4nLNjA",
        "colab_type": "code",
        "outputId": "3e559915-6e19-4050-8b02-e7758bd24c6f",
        "colab": {
          "base_uri": "https://localhost:8080/",
          "height": 253
        }
      },
      "cell_type": "code",
      "source": [
        "customers_w.head()"
      ],
      "execution_count": 0,
      "outputs": [
        {
          "output_type": "execute_result",
          "data": {
            "text/html": [
              "<div>\n",
              "<style scoped>\n",
              "    .dataframe tbody tr th:only-of-type {\n",
              "        vertical-align: middle;\n",
              "    }\n",
              "\n",
              "    .dataframe tbody tr th {\n",
              "        vertical-align: top;\n",
              "    }\n",
              "\n",
              "    .dataframe thead th {\n",
              "        text-align: right;\n",
              "    }\n",
              "</style>\n",
              "<table border=\"1\" class=\"dataframe\">\n",
              "  <thead>\n",
              "    <tr style=\"text-align: right;\">\n",
              "      <th></th>\n",
              "      <th>var_0</th>\n",
              "      <th>var_1</th>\n",
              "      <th>var_2</th>\n",
              "      <th>var_3</th>\n",
              "      <th>var_4</th>\n",
              "      <th>var_5</th>\n",
              "      <th>var_6</th>\n",
              "      <th>var_7</th>\n",
              "      <th>var_8</th>\n",
              "      <th>var_9</th>\n",
              "      <th>...</th>\n",
              "      <th>var_190</th>\n",
              "      <th>var_191</th>\n",
              "      <th>var_192</th>\n",
              "      <th>var_193</th>\n",
              "      <th>var_194</th>\n",
              "      <th>var_195</th>\n",
              "      <th>var_196</th>\n",
              "      <th>var_197</th>\n",
              "      <th>var_198</th>\n",
              "      <th>var_199</th>\n",
              "    </tr>\n",
              "  </thead>\n",
              "  <tbody>\n",
              "    <tr>\n",
              "      <th>0</th>\n",
              "      <td>11.0656</td>\n",
              "      <td>7.7798</td>\n",
              "      <td>12.9536</td>\n",
              "      <td>9.4292</td>\n",
              "      <td>11.4327</td>\n",
              "      <td>-2.3805</td>\n",
              "      <td>5.8493</td>\n",
              "      <td>18.2675</td>\n",
              "      <td>2.1337</td>\n",
              "      <td>8.8100</td>\n",
              "      <td>...</td>\n",
              "      <td>-2.1556</td>\n",
              "      <td>11.8495</td>\n",
              "      <td>-1.4300</td>\n",
              "      <td>2.4508</td>\n",
              "      <td>13.7112</td>\n",
              "      <td>2.4669</td>\n",
              "      <td>4.3654</td>\n",
              "      <td>10.7200</td>\n",
              "      <td>15.4722</td>\n",
              "      <td>-8.7197</td>\n",
              "    </tr>\n",
              "    <tr>\n",
              "      <th>1</th>\n",
              "      <td>8.5304</td>\n",
              "      <td>1.2543</td>\n",
              "      <td>11.3047</td>\n",
              "      <td>5.1858</td>\n",
              "      <td>9.1974</td>\n",
              "      <td>-4.0117</td>\n",
              "      <td>6.0196</td>\n",
              "      <td>18.6316</td>\n",
              "      <td>-4.4131</td>\n",
              "      <td>5.9739</td>\n",
              "      <td>...</td>\n",
              "      <td>10.6165</td>\n",
              "      <td>8.8349</td>\n",
              "      <td>0.9403</td>\n",
              "      <td>10.1282</td>\n",
              "      <td>15.5765</td>\n",
              "      <td>0.4773</td>\n",
              "      <td>-1.4852</td>\n",
              "      <td>9.8714</td>\n",
              "      <td>19.1293</td>\n",
              "      <td>-20.9760</td>\n",
              "    </tr>\n",
              "    <tr>\n",
              "      <th>2</th>\n",
              "      <td>5.4827</td>\n",
              "      <td>-10.3581</td>\n",
              "      <td>10.1407</td>\n",
              "      <td>7.0479</td>\n",
              "      <td>10.2628</td>\n",
              "      <td>9.8052</td>\n",
              "      <td>4.8950</td>\n",
              "      <td>20.2537</td>\n",
              "      <td>1.5233</td>\n",
              "      <td>8.3442</td>\n",
              "      <td>...</td>\n",
              "      <td>-0.7484</td>\n",
              "      <td>10.9935</td>\n",
              "      <td>1.9803</td>\n",
              "      <td>2.1800</td>\n",
              "      <td>12.9813</td>\n",
              "      <td>2.1281</td>\n",
              "      <td>-7.1086</td>\n",
              "      <td>7.0618</td>\n",
              "      <td>19.8956</td>\n",
              "      <td>-23.1794</td>\n",
              "    </tr>\n",
              "    <tr>\n",
              "      <th>3</th>\n",
              "      <td>8.5374</td>\n",
              "      <td>-1.3222</td>\n",
              "      <td>12.0220</td>\n",
              "      <td>6.5749</td>\n",
              "      <td>8.8458</td>\n",
              "      <td>3.1744</td>\n",
              "      <td>4.9397</td>\n",
              "      <td>20.5660</td>\n",
              "      <td>3.3755</td>\n",
              "      <td>7.4578</td>\n",
              "      <td>...</td>\n",
              "      <td>9.5702</td>\n",
              "      <td>9.0766</td>\n",
              "      <td>1.6580</td>\n",
              "      <td>3.5813</td>\n",
              "      <td>15.1874</td>\n",
              "      <td>3.1656</td>\n",
              "      <td>3.9567</td>\n",
              "      <td>9.2295</td>\n",
              "      <td>13.0168</td>\n",
              "      <td>-4.2108</td>\n",
              "    </tr>\n",
              "    <tr>\n",
              "      <th>4</th>\n",
              "      <td>11.7058</td>\n",
              "      <td>-0.1327</td>\n",
              "      <td>14.1295</td>\n",
              "      <td>7.7506</td>\n",
              "      <td>9.1035</td>\n",
              "      <td>-8.5848</td>\n",
              "      <td>6.8595</td>\n",
              "      <td>10.6048</td>\n",
              "      <td>2.9890</td>\n",
              "      <td>7.1437</td>\n",
              "      <td>...</td>\n",
              "      <td>4.2259</td>\n",
              "      <td>9.1723</td>\n",
              "      <td>1.2835</td>\n",
              "      <td>3.3778</td>\n",
              "      <td>19.5542</td>\n",
              "      <td>-0.2860</td>\n",
              "      <td>-5.1612</td>\n",
              "      <td>7.2882</td>\n",
              "      <td>13.9260</td>\n",
              "      <td>-9.1846</td>\n",
              "    </tr>\n",
              "  </tbody>\n",
              "</table>\n",
              "<p>5 rows × 200 columns</p>\n",
              "</div>"
            ],
            "text/plain": [
              "     var_0    var_1    var_2   var_3    var_4   var_5   var_6    var_7  \\\n",
              "0  11.0656   7.7798  12.9536  9.4292  11.4327 -2.3805  5.8493  18.2675   \n",
              "1   8.5304   1.2543  11.3047  5.1858   9.1974 -4.0117  6.0196  18.6316   \n",
              "2   5.4827 -10.3581  10.1407  7.0479  10.2628  9.8052  4.8950  20.2537   \n",
              "3   8.5374  -1.3222  12.0220  6.5749   8.8458  3.1744  4.9397  20.5660   \n",
              "4  11.7058  -0.1327  14.1295  7.7506   9.1035 -8.5848  6.8595  10.6048   \n",
              "\n",
              "    var_8   var_9   ...     var_190  var_191  var_192  var_193  var_194  \\\n",
              "0  2.1337  8.8100   ...     -2.1556  11.8495  -1.4300   2.4508  13.7112   \n",
              "1 -4.4131  5.9739   ...     10.6165   8.8349   0.9403  10.1282  15.5765   \n",
              "2  1.5233  8.3442   ...     -0.7484  10.9935   1.9803   2.1800  12.9813   \n",
              "3  3.3755  7.4578   ...      9.5702   9.0766   1.6580   3.5813  15.1874   \n",
              "4  2.9890  7.1437   ...      4.2259   9.1723   1.2835   3.3778  19.5542   \n",
              "\n",
              "   var_195  var_196  var_197  var_198  var_199  \n",
              "0   2.4669   4.3654  10.7200  15.4722  -8.7197  \n",
              "1   0.4773  -1.4852   9.8714  19.1293 -20.9760  \n",
              "2   2.1281  -7.1086   7.0618  19.8956 -23.1794  \n",
              "3   3.1656   3.9567   9.2295  13.0168  -4.2108  \n",
              "4  -0.2860  -5.1612   7.2882  13.9260  -9.1846  \n",
              "\n",
              "[5 rows x 200 columns]"
            ]
          },
          "metadata": {
            "tags": []
          },
          "execution_count": 67
        }
      ]
    },
    {
      "metadata": {
        "id": "W3Wsq6INLTIP",
        "colab_type": "code",
        "colab": {}
      },
      "cell_type": "code",
      "source": [
        "#Submission Prediction\n",
        "y_pred=clf.predict(customers_w)\n"
      ],
      "execution_count": 0,
      "outputs": []
    },
    {
      "metadata": {
        "id": "1c29JH7VPDV5",
        "colab_type": "code",
        "colab": {}
      },
      "cell_type": "code",
      "source": [
        "#convert into binary values\n",
        "for i in range(0,len(customers_w)):\n",
        "    if y_pred[i]>=.5:      \n",
        "       y_pred[i]=1\n",
        "    else:  \n",
        "       y_pred[i]=0"
      ],
      "execution_count": 0,
      "outputs": []
    },
    {
      "metadata": {
        "id": "0f0r2_7qCalr",
        "colab_type": "code",
        "colab": {}
      },
      "cell_type": "code",
      "source": [
        "from sklearn.metrics import confusion_matrix"
      ],
      "execution_count": 0,
      "outputs": []
    },
    {
      "metadata": {
        "id": "6ynxd1TxCalw",
        "colab_type": "code",
        "colab": {}
      },
      "cell_type": "code",
      "source": [
        "cm = confusion_matrix(y_test,y_pred)"
      ],
      "execution_count": 0,
      "outputs": []
    },
    {
      "metadata": {
        "id": "_0SxxgB7Cal6",
        "colab_type": "code",
        "outputId": "90b05e45-8699-4ebc-d2f9-5ca728362f5f",
        "colab": {}
      },
      "cell_type": "code",
      "source": [
        "cm"
      ],
      "execution_count": 0,
      "outputs": [
        {
          "output_type": "execute_result",
          "data": {
            "text/plain": [
              "array([[53201,   711],\n",
              "       [ 4461,  1627]], dtype=int64)"
            ]
          },
          "metadata": {
            "tags": []
          },
          "execution_count": 152
        }
      ]
    },
    {
      "metadata": {
        "id": "wpCJ0HHkCamD",
        "colab_type": "code",
        "colab": {}
      },
      "cell_type": "code",
      "source": [
        "fpr, tpr, thresholds = metrics.roc_curve(y_test, y_pred, pos_label=None)\n"
      ],
      "execution_count": 0,
      "outputs": []
    },
    {
      "metadata": {
        "id": "W_rNo855CamM",
        "colab_type": "code",
        "outputId": "c7a2a36b-877f-4c8b-b22b-bbdd0598f532",
        "colab": {}
      },
      "cell_type": "code",
      "source": [
        "metrics.auc(fpr, tpr)"
      ],
      "execution_count": 0,
      "outputs": [
        {
          "output_type": "execute_result",
          "data": {
            "text/plain": [
              "0.6270294424417541"
            ]
          },
          "metadata": {
            "tags": []
          },
          "execution_count": 158
        }
      ]
    },
    {
      "metadata": {
        "id": "GKySb7UwONQd",
        "colab_type": "code",
        "colab": {}
      },
      "cell_type": "code",
      "source": [
        "## To check the values in the outcome of test data\n",
        "\n",
        "sub2_df = pd.DataFrame({\"Check\":y_pred})\n"
      ],
      "execution_count": 0,
      "outputs": []
    },
    {
      "metadata": {
        "id": "Si0hsku6QFLS",
        "colab_type": "code",
        "outputId": "c5c952ba-4a9f-43dc-e4ec-d56e0d7e648e",
        "colab": {
          "base_uri": "https://localhost:8080/",
          "height": 68
        }
      },
      "cell_type": "code",
      "source": [
        "sub2_df.Check.value_counts()"
      ],
      "execution_count": 0,
      "outputs": [
        {
          "output_type": "execute_result",
          "data": {
            "text/plain": [
              "0.0    111811\n",
              "1.0     88189\n",
              "Name: Check, dtype: int64"
            ]
          },
          "metadata": {
            "tags": []
          },
          "execution_count": 77
        }
      ]
    },
    {
      "metadata": {
        "id": "ZvFk9HgbNNIz",
        "colab_type": "code",
        "colab": {}
      },
      "cell_type": "code",
      "source": [
        "sub_df = pd.DataFrame({\"ID_code\": test_data[\"ID_code\"].values})"
      ],
      "execution_count": 0,
      "outputs": []
    },
    {
      "metadata": {
        "id": "uehnYl_IKDx_",
        "colab_type": "code",
        "colab": {}
      },
      "cell_type": "code",
      "source": [
        "sub_df['Target'] = y_pred"
      ],
      "execution_count": 0,
      "outputs": []
    },
    {
      "metadata": {
        "id": "mqKZhHhNKLXG",
        "colab_type": "code",
        "outputId": "c1aed316-7fb7-4c4c-8cc3-7b7935699f41",
        "colab": {
          "base_uri": "https://localhost:8080/",
          "height": 343
        }
      },
      "cell_type": "code",
      "source": [
        "sub_df.head(n=10)"
      ],
      "execution_count": 0,
      "outputs": [
        {
          "output_type": "execute_result",
          "data": {
            "text/html": [
              "<div>\n",
              "<style scoped>\n",
              "    .dataframe tbody tr th:only-of-type {\n",
              "        vertical-align: middle;\n",
              "    }\n",
              "\n",
              "    .dataframe tbody tr th {\n",
              "        vertical-align: top;\n",
              "    }\n",
              "\n",
              "    .dataframe thead th {\n",
              "        text-align: right;\n",
              "    }\n",
              "</style>\n",
              "<table border=\"1\" class=\"dataframe\">\n",
              "  <thead>\n",
              "    <tr style=\"text-align: right;\">\n",
              "      <th></th>\n",
              "      <th>ID_code</th>\n",
              "      <th>Target</th>\n",
              "    </tr>\n",
              "  </thead>\n",
              "  <tbody>\n",
              "    <tr>\n",
              "      <th>0</th>\n",
              "      <td>test_0</td>\n",
              "      <td>0.881119</td>\n",
              "    </tr>\n",
              "    <tr>\n",
              "      <th>1</th>\n",
              "      <td>test_1</td>\n",
              "      <td>0.762464</td>\n",
              "    </tr>\n",
              "    <tr>\n",
              "      <th>2</th>\n",
              "      <td>test_2</td>\n",
              "      <td>0.829372</td>\n",
              "    </tr>\n",
              "    <tr>\n",
              "      <th>3</th>\n",
              "      <td>test_3</td>\n",
              "      <td>0.848873</td>\n",
              "    </tr>\n",
              "    <tr>\n",
              "      <th>4</th>\n",
              "      <td>test_4</td>\n",
              "      <td>0.847817</td>\n",
              "    </tr>\n",
              "    <tr>\n",
              "      <th>5</th>\n",
              "      <td>test_5</td>\n",
              "      <td>0.768867</td>\n",
              "    </tr>\n",
              "    <tr>\n",
              "      <th>6</th>\n",
              "      <td>test_6</td>\n",
              "      <td>0.753833</td>\n",
              "    </tr>\n",
              "    <tr>\n",
              "      <th>7</th>\n",
              "      <td>test_7</td>\n",
              "      <td>0.868398</td>\n",
              "    </tr>\n",
              "    <tr>\n",
              "      <th>8</th>\n",
              "      <td>test_8</td>\n",
              "      <td>0.646610</td>\n",
              "    </tr>\n",
              "    <tr>\n",
              "      <th>9</th>\n",
              "      <td>test_9</td>\n",
              "      <td>0.548871</td>\n",
              "    </tr>\n",
              "  </tbody>\n",
              "</table>\n",
              "</div>"
            ],
            "text/plain": [
              "  ID_code    Target\n",
              "0  test_0  0.881119\n",
              "1  test_1  0.762464\n",
              "2  test_2  0.829372\n",
              "3  test_3  0.848873\n",
              "4  test_4  0.847817\n",
              "5  test_5  0.768867\n",
              "6  test_6  0.753833\n",
              "7  test_7  0.868398\n",
              "8  test_8  0.646610\n",
              "9  test_9  0.548871"
            ]
          },
          "metadata": {
            "tags": []
          },
          "execution_count": 58
        }
      ]
    },
    {
      "metadata": {
        "id": "dJdOOsziQ2c0",
        "colab_type": "code",
        "outputId": "83d04899-d733-4fb3-867d-4228f3d2c0bc",
        "colab": {
          "base_uri": "https://localhost:8080/",
          "height": 34
        }
      },
      "cell_type": "code",
      "source": [
        "y_pred.min()"
      ],
      "execution_count": 0,
      "outputs": [
        {
          "output_type": "execute_result",
          "data": {
            "text/plain": [
              "0.3747507297875012"
            ]
          },
          "metadata": {
            "tags": []
          },
          "execution_count": 59
        }
      ]
    },
    {
      "metadata": {
        "id": "CMIDp6RjlJg3",
        "colab_type": "code",
        "colab": {}
      },
      "cell_type": "code",
      "source": [
        "from sklearn.metrics import confusion_matrix"
      ],
      "execution_count": 0,
      "outputs": []
    },
    {
      "metadata": {
        "id": "vu70z4qjlLVh",
        "colab_type": "code",
        "outputId": "a207ad1e-5815-4029-bfeb-3e3af9ec3bff",
        "colab": {
          "base_uri": "https://localhost:8080/",
          "height": 51
        }
      },
      "cell_type": "code",
      "source": [
        "cm = confusion_matrix(y_test,y_pred)\n",
        "cm"
      ],
      "execution_count": 0,
      "outputs": [
        {
          "output_type": "execute_result",
          "data": {
            "text/plain": [
              "array([[36680,  8224],\n",
              "       [ 1305,  3791]])"
            ]
          },
          "metadata": {
            "tags": []
          },
          "execution_count": 59
        }
      ]
    },
    {
      "metadata": {
        "id": "UQEEhs00TMfz",
        "colab_type": "text"
      },
      "cell_type": "markdown",
      "source": [
        ""
      ]
    },
    {
      "metadata": {
        "id": "xO8V8pyHKg0w",
        "colab_type": "code",
        "colab": {}
      },
      "cell_type": "code",
      "source": [
        "## Excel\n",
        "\n",
        "sub_df.to_csv('Submission_4',sep = ',')"
      ],
      "execution_count": 0,
      "outputs": []
    },
    {
      "metadata": {
        "id": "6AZW4PpzKztj",
        "colab_type": "code",
        "colab": {}
      },
      "cell_type": "code",
      "source": [
        "num_round = 12000\n",
        "kfold = 8\n",
        "folds = StratifiedKFold(n_splits=kfold, shuffle=False, random_state=44000)\n",
        "oof = np.zeros(len(train_data))\n",
        "predictions = np.zeros(len(y))\n"
      ],
      "execution_count": 0,
      "outputs": []
    },
    {
      "metadata": {
        "id": "4bDCXlu2QJkp",
        "colab_type": "code",
        "colab": {}
      },
      "cell_type": "code",
      "source": [
        "features = [c for c in train_data.columns if c not in ['ID_code', 'target']]"
      ],
      "execution_count": 0,
      "outputs": []
    },
    {
      "metadata": {
        "id": "6u8eSAz5dran",
        "colab_type": "code",
        "outputId": "1e0fa329-4faf-42e4-ef83-2f18e8d6bb02",
        "colab": {
          "base_uri": "https://localhost:8080/",
          "height": 1512
        }
      },
      "cell_type": "code",
      "source": [
        "for fold_, (trn_idx, val_idx) in enumerate(folds.split(train_data.values, y.values)):\n",
        "    print(\"Fold {}\".format(fold_))\n",
        "    trn_data = lgb.Dataset(train_data.iloc[trn_idx][features], label=y.iloc[trn_idx])\n",
        "    val_data = lgb.Dataset(train_data.iloc[val_idx][features], label=y.iloc[val_idx])\n",
        "    clf = lgb.train(params, trn_data, num_round, valid_sets = [trn_data, val_data], verbose_eval=1000, early_stopping_rounds = 1000)\n",
        "    oof[val_idx] = clf.predict(train_data.iloc[val_idx][features], num_iteration=clf.best_iteration)\n",
        "    predictions += clf.predict(test_data[features], num_iteration=clf.best_iteration) / folds.n_splits"
      ],
      "execution_count": 29,
      "outputs": [
        {
          "output_type": "stream",
          "text": [
            "Fold 0\n",
            "Training until validation scores don't improve for 1000 rounds.\n",
            "[1000]\ttraining's auc: 0.919638\tvalid_1's auc: 0.888089\n",
            "[2000]\ttraining's auc: 0.929338\tvalid_1's auc: 0.8922\n",
            "[3000]\ttraining's auc: 0.936465\tvalid_1's auc: 0.89423\n",
            "[4000]\ttraining's auc: 0.942795\tvalid_1's auc: 0.895283\n",
            "[5000]\ttraining's auc: 0.948586\tvalid_1's auc: 0.895661\n",
            "[6000]\ttraining's auc: 0.953926\tvalid_1's auc: 0.896058\n",
            "[7000]\ttraining's auc: 0.958957\tvalid_1's auc: 0.896189\n",
            "[8000]\ttraining's auc: 0.963625\tvalid_1's auc: 0.896389\n",
            "Early stopping, best iteration is:\n",
            "[7965]\ttraining's auc: 0.963472\tvalid_1's auc: 0.89643\n",
            "Fold 1\n",
            "Training until validation scores don't improve for 1000 rounds.\n",
            "[1000]\ttraining's auc: 0.919942\tvalid_1's auc: 0.887254\n",
            "[2000]\ttraining's auc: 0.929593\tvalid_1's auc: 0.891975\n",
            "[3000]\ttraining's auc: 0.936683\tvalid_1's auc: 0.893789\n",
            "[4000]\ttraining's auc: 0.942948\tvalid_1's auc: 0.894543\n",
            "[5000]\ttraining's auc: 0.948663\tvalid_1's auc: 0.894875\n",
            "[6000]\ttraining's auc: 0.953955\tvalid_1's auc: 0.895206\n",
            "[7000]\ttraining's auc: 0.958949\tvalid_1's auc: 0.895148\n",
            "Early stopping, best iteration is:\n",
            "[6158]\ttraining's auc: 0.954772\tvalid_1's auc: 0.895336\n",
            "Fold 2\n",
            "Training until validation scores don't improve for 1000 rounds.\n",
            "[1000]\ttraining's auc: 0.91932\tvalid_1's auc: 0.891111\n",
            "[2000]\ttraining's auc: 0.92896\tvalid_1's auc: 0.895137\n",
            "[3000]\ttraining's auc: 0.936106\tvalid_1's auc: 0.896658\n",
            "[4000]\ttraining's auc: 0.942444\tvalid_1's auc: 0.89717\n",
            "[5000]\ttraining's auc: 0.948176\tvalid_1's auc: 0.897444\n",
            "[6000]\ttraining's auc: 0.9536\tvalid_1's auc: 0.89771\n",
            "[7000]\ttraining's auc: 0.958652\tvalid_1's auc: 0.897735\n",
            "Early stopping, best iteration is:\n",
            "[6663]\ttraining's auc: 0.956966\tvalid_1's auc: 0.897837\n",
            "Fold 3\n",
            "Training until validation scores don't improve for 1000 rounds.\n",
            "[1000]\ttraining's auc: 0.919431\tvalid_1's auc: 0.890001\n",
            "[2000]\ttraining's auc: 0.928999\tvalid_1's auc: 0.894912\n",
            "[3000]\ttraining's auc: 0.936215\tvalid_1's auc: 0.896757\n",
            "[4000]\ttraining's auc: 0.942596\tvalid_1's auc: 0.897642\n",
            "[5000]\ttraining's auc: 0.948347\tvalid_1's auc: 0.898187\n",
            "[6000]\ttraining's auc: 0.953705\tvalid_1's auc: 0.898335\n",
            "[7000]\ttraining's auc: 0.958765\tvalid_1's auc: 0.898412\n",
            "[8000]\ttraining's auc: 0.963374\tvalid_1's auc: 0.898526\n",
            "Early stopping, best iteration is:\n",
            "[7970]\ttraining's auc: 0.963243\tvalid_1's auc: 0.898543\n",
            "Fold 4\n",
            "Training until validation scores don't improve for 1000 rounds.\n",
            "[1000]\ttraining's auc: 0.918865\tvalid_1's auc: 0.895767\n",
            "[2000]\ttraining's auc: 0.928733\tvalid_1's auc: 0.89987\n",
            "[3000]\ttraining's auc: 0.93592\tvalid_1's auc: 0.901321\n",
            "[4000]\ttraining's auc: 0.942253\tvalid_1's auc: 0.902252\n",
            "[5000]\ttraining's auc: 0.947974\tvalid_1's auc: 0.902583\n",
            "[6000]\ttraining's auc: 0.953394\tvalid_1's auc: 0.902847\n",
            "[7000]\ttraining's auc: 0.958488\tvalid_1's auc: 0.902953\n",
            "[8000]\ttraining's auc: 0.963179\tvalid_1's auc: 0.902942\n",
            "Early stopping, best iteration is:\n",
            "[7350]\ttraining's auc: 0.960151\tvalid_1's auc: 0.903021\n",
            "Fold 5\n",
            "Training until validation scores don't improve for 1000 rounds.\n",
            "[1000]\ttraining's auc: 0.919721\tvalid_1's auc: 0.891735\n",
            "[2000]\ttraining's auc: 0.929438\tvalid_1's auc: 0.895035\n",
            "[3000]\ttraining's auc: 0.93656\tvalid_1's auc: 0.896309\n",
            "[4000]\ttraining's auc: 0.942847\tvalid_1's auc: 0.896861\n",
            "[5000]\ttraining's auc: 0.948552\tvalid_1's auc: 0.89698\n",
            "[6000]\ttraining's auc: 0.953917\tvalid_1's auc: 0.897105\n",
            "Early stopping, best iteration is:\n",
            "[5374]\ttraining's auc: 0.950631\tvalid_1's auc: 0.897119\n",
            "Fold 6\n",
            "Training until validation scores don't improve for 1000 rounds.\n",
            "[1000]\ttraining's auc: 0.918538\tvalid_1's auc: 0.895595\n",
            "[2000]\ttraining's auc: 0.928334\tvalid_1's auc: 0.899859\n",
            "[3000]\ttraining's auc: 0.935531\tvalid_1's auc: 0.901586\n",
            "[4000]\ttraining's auc: 0.941958\tvalid_1's auc: 0.902779\n",
            "[5000]\ttraining's auc: 0.947751\tvalid_1's auc: 0.90331\n",
            "[6000]\ttraining's auc: 0.953145\tvalid_1's auc: 0.903532\n",
            "Early stopping, best iteration is:\n",
            "[5906]\ttraining's auc: 0.952644\tvalid_1's auc: 0.903553\n",
            "Fold 7\n",
            "Training until validation scores don't improve for 1000 rounds.\n",
            "[1000]\ttraining's auc: 0.919122\tvalid_1's auc: 0.896328\n",
            "[2000]\ttraining's auc: 0.928854\tvalid_1's auc: 0.899601\n",
            "[3000]\ttraining's auc: 0.936072\tvalid_1's auc: 0.90101\n",
            "[4000]\ttraining's auc: 0.942392\tvalid_1's auc: 0.901788\n",
            "[5000]\ttraining's auc: 0.948184\tvalid_1's auc: 0.901974\n",
            "[6000]\ttraining's auc: 0.953574\tvalid_1's auc: 0.902113\n",
            "[7000]\ttraining's auc: 0.958625\tvalid_1's auc: 0.902247\n",
            "Early stopping, best iteration is:\n",
            "[6459]\ttraining's auc: 0.955915\tvalid_1's auc: 0.902354\n"
          ],
          "name": "stdout"
        }
      ]
    },
    {
      "metadata": {
        "id": "lj4bNZLvRZHK",
        "colab_type": "code",
        "outputId": "3a5a2cc3-a364-4a85-ac7d-124109f7bf4b",
        "colab": {
          "base_uri": "https://localhost:8080/",
          "height": 50
        }
      },
      "cell_type": "code",
      "source": [
        "print(\"\\n >> CV score: {:<8.5f}\".format(roc_auc_score(y, oof)))"
      ],
      "execution_count": 30,
      "outputs": [
        {
          "output_type": "stream",
          "text": [
            "\n",
            " >> CV score: 0.89911 \n"
          ],
          "name": "stdout"
        }
      ]
    },
    {
      "metadata": {
        "id": "HwlbE_iGqHv5",
        "colab_type": "code",
        "colab": {}
      },
      "cell_type": "code",
      "source": [
        ""
      ],
      "execution_count": 0,
      "outputs": []
    },
    {
      "metadata": {
        "id": "Uz8Y3DK4qWV6",
        "colab_type": "code",
        "colab": {}
      },
      "cell_type": "code",
      "source": [
        "submission=pd.DataFrame({\"ID_code\": test_data.ID_code.values})\n",
        "submission[\"target\"]=predictions\n",
        "submission.to_csv(\"submission_12.csv\", index=False)"
      ],
      "execution_count": 0,
      "outputs": []
    },
    {
      "metadata": {
        "id": "pZO6Q6sqvO5V",
        "colab_type": "code",
        "colab": {}
      },
      "cell_type": "code",
      "source": [
        ""
      ],
      "execution_count": 0,
      "outputs": []
    }
  ]
}